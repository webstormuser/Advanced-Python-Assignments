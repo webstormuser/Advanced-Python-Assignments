{
  "nbformat": 4,
  "nbformat_minor": 0,
  "metadata": {
    "colab": {
      "provenance": []
    },
    "kernelspec": {
      "name": "python3",
      "display_name": "Python 3"
    },
    "language_info": {
      "name": "python"
    }
  },
  "cells": [
    {
      "cell_type": "code",
      "source": [],
      "metadata": {
        "id": "sGaYHTkjgdk0"
      },
      "execution_count": null,
      "outputs": []
    },
    {
      "cell_type": "markdown",
      "source": [
        "Q1. Describe the differences between text and binary files in a single paragraph.\n",
        "\n",
        "ANS :There are mainly two types of data files — text file and binary file. A text file consists of human readable characters, which can be opened by any text editor. On the other hand, binary files are made up of non-human readable characters and symbols, which require specific programs to access its contents."
      ],
      "metadata": {
        "id": "oALO9ct9jfPe"
      }
    },
    {
      "cell_type": "markdown",
      "source": [
        "Q2. What are some scenarios where using text files will be the better option? When would you like to\n",
        "use binary files instead of text files?\n",
        "\n",
        "ANS :ext files are used to store data more user friendly. Binary files are used to store data more compactly. In the text file, a special character whose ASCII value is 26 inserted after the last character to mark the end of file. In the binary file no such character is present."
      ],
      "metadata": {
        "id": "0_QMoMTTjyxl"
      }
    },
    {
      "cell_type": "markdown",
      "source": [
        "Q3. What are some of the issues with using binary operations to read and write a Python integer\n",
        "directly to disc?\n",
        "\n",
        "ANS : When we read or write a python integer using binary operations\n",
        "\n",
        "Binary operations deal with raw data\n",
        "One needs to identify how many bytes one would read or write."
      ],
      "metadata": {
        "id": "Dsko3GLFlW5V"
      }
    },
    {
      "cell_type": "markdown",
      "source": [
        "Q4. Describe a benefit of using the with keyword instead of explicitly opening a file.\n",
        "\n",
        "ANS :When a file is opened using the with keyword, if some exceptions occur after opening a file, or at the end of the file it automatically does the closing of the file. There by not leaving an file in open mode and there would no need to explicitly close a file."
      ],
      "metadata": {
        "id": "INo-_Q5mmBti"
      }
    },
    {
      "cell_type": "markdown",
      "source": [
        "Q5. Does Python have the trailing newline while reading a line of text? Does Python append a\n",
        "newline when you write a line of text?\n",
        "\n",
        "ANS : Yes, Python have the trailing newline while reading a line of text. When we write a newline has to be provided in python excpicitly."
      ],
      "metadata": {
        "id": "Odv4JP1HmB5b"
      }
    },
    {
      "cell_type": "markdown",
      "source": [
        "Q6. What file operations enable for random-access operation?\n",
        "\n",
        "ANS :: The file operations enable for random-access operation are seek() and tell()"
      ],
      "metadata": {
        "id": "CK3sH8eOmB7W"
      }
    },
    {
      "cell_type": "markdown",
      "source": [
        "Q7. When do you think you&#39;ll use the struct package the most?\n",
        "\n",
        "ANS :The struct module in Python is used to convert native Python data types such as strings and numbers into a string of bytes and vice versa. What this means is that users can parse binary files of data stored in C structs in Python.\n",
        "\n",
        "It is used mostly for handling binary data stored in files or from network connections, among other sources."
      ],
      "metadata": {
        "id": "aeMgFO9VmB_a"
      }
    },
    {
      "cell_type": "markdown",
      "source": [
        "Q8. When is pickling the best option?\n",
        "\n",
        "ANS :Pickling is a proces by which we convert python object into byte stream.Since it is in binary format we can make our code portable and we can avoid it from getting missued by human intervention because it is not in human readable form "
      ],
      "metadata": {
        "id": "sOTP50KgmvZT"
      }
    },
    {
      "cell_type": "markdown",
      "source": [
        "Q9. When will it be best to use the shelve package?\n",
        "\n",
        "ANS :The shelve module in Python's standard library is a simple yet effective tool for persistent data storage when using a relational database solution is not required. The shelf object defined in this module is dictionary-like object which is persistently stored in a disk file.\n",
        "Shelve package is used to pickle data but treats the entire file as dictionary.\n"
      ],
      "metadata": {
        "id": "H8-U9DC6mCBd"
      }
    },
    {
      "cell_type": "markdown",
      "source": [
        "Q10. What is a special restriction when using the shelve package, as opposed to using other data dictionaries?\n",
        "Ans: Only string data type can be used as key in this special dictionary object, whereas any picklable Python object can be used as value."
      ],
      "metadata": {
        "id": "JqAvsTvFmCFV"
      }
    },
    {
      "cell_type": "code",
      "source": [],
      "metadata": {
        "id": "qdxqkB7TjwEC"
      },
      "execution_count": null,
      "outputs": []
    }
  ]
}