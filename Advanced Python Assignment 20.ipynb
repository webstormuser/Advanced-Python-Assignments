{
 "cells": [
  {
   "cell_type": "markdown",
   "id": "1b9f8c4a",
   "metadata": {},
   "source": [
    "# Q1.Compare and contrast the float and Decimal classes' benefits and drawbacks."
   ]
  },
  {
   "cell_type": "markdown",
   "id": "bf31c4fa",
   "metadata": {},
   "source": [
    "Ans:\n",
    "    DECIMAL and FLOAT both are used to store numerical values.\n",
    "Float is Approximate-number data type, which means that not all values in the data type range can be represented exactly , it round up the values.\n",
    "where as Decimal is Fixed-Precision data type, which means that all the values in the data type range can be represented exactly with precision and scale, it doesn’t round up the values.\n",
    "1) Decimal( Precision, Scale)\n",
    "Here, Precision Means the total number of digits, both before and after the decimal point. The precision has a range from 1 to 38. The default precision is 38.\n",
    "\n",
    "and Scale is the number of digits after the decimal point.Scale can only be specified if Precision is specified. The scale must always be less than or equal to the precision.\n",
    "\n",
    "Precision:1-9 storage 5bytes,10-19 storage is 9bytes,20-28 storage is 13bytes,29-38 storage is 17 bytes\n",
    "\n",
    "\n",
    "2)Float(n)\n",
    "\n",
    "In this case, the n indicates if the field will take up 4 or 8 bytes. The float data type supports values in these ranges -1.79E+308 to -2.23E-308, 0 and 2.23E-308 to 1.79E+308.\n",
    "\n",
    "If the number of characters in the scientific notation of the value is between 1 to 24 the precision is 7 digits and the storage is 4 bytes. If the number of characters in the scientific notation of the value is between 25 to 53 the precision is 15 digits and the storage is 8 bytes."
   ]
  },
  {
   "cell_type": "markdown",
   "id": "d8399579",
   "metadata": {},
   "source": [
    "# Q2.Decimal('1.200') and Decimal('1.2') are two objects to consider. In what sense are these the same object? Are these just two ways of representing the exact same value, or do they correspond to different internal states?"
   ]
  },
  {
   "cell_type": "markdown",
   "id": "9b17ed4b",
   "metadata": {},
   "source": [
    "Ans: Both values are same but internal representation at storage Is different. Precsion differs, Decimal('1.200') gives internally 1.200 and Decimal('1.2') gives 1.2."
   ]
  },
  {
   "cell_type": "markdown",
   "id": "1d1c113c",
   "metadata": {},
   "source": [
    "# Q3.3. What happens if the equality of Decimal(&#39;1.200&#39;) and Decimal(&#39;1.2&#39;) is checked?"
   ]
  },
  {
   "cell_type": "markdown",
   "id": "167a12e6",
   "metadata": {},
   "source": [
    "Ans: if equality of decimal(1.200) and decimal('1.2') is checked both are equal just point of precison"
   ]
  },
  {
   "cell_type": "markdown",
   "id": "76ce473d",
   "metadata": {},
   "source": [
    "# 4. Why is it preferable to start a Decimal object with a string rather than a floating-point value?"
   ]
  },
  {
   "cell_type": "markdown",
   "id": "4ad06604",
   "metadata": {},
   "source": [
    "Ans:: Floating-point value is converted to Decimal format. Decimal can store float value with absolute precision. But when float value is given as Decimal object,it first has to be converted from floating point value which might already have rounding error.\n",
    "\n",
    "Hence it is preferable to start a Decimal object with a string."
   ]
  },
  {
   "cell_type": "markdown",
   "id": "6e6957b9",
   "metadata": {},
   "source": [
    "# 5. In an arithmetic phrase, how simple is it to combine Decimal objects with integers?"
   ]
  },
  {
   "cell_type": "code",
   "execution_count": 14,
   "id": "0efb7fff",
   "metadata": {},
   "outputs": [
    {
     "name": "stdout",
     "output_type": "stream",
     "text": [
      "12.20000000000000001110223025\n"
     ]
    }
   ],
   "source": [
    "from decimal import *\n",
    "a=2/10\n",
    "b=Decimal('12.000')\n",
    "c=Decimal(a)+b\n",
    "print(c)"
   ]
  },
  {
   "cell_type": "markdown",
   "id": "326666f9",
   "metadata": {},
   "source": [
    "# 6. Can Decimal objects and floating-point values be combined easily?"
   ]
  },
  {
   "cell_type": "code",
   "execution_count": 21,
   "id": "fcb2a12d",
   "metadata": {},
   "outputs": [
    {
     "ename": "TypeError",
     "evalue": "unsupported operand type(s) for +: 'decimal.Decimal' and 'float'",
     "output_type": "error",
     "traceback": [
      "\u001b[1;31m---------------------------------------------------------------------------\u001b[0m",
      "\u001b[1;31mTypeError\u001b[0m                                 Traceback (most recent call last)",
      "\u001b[1;32m~\\AppData\\Local\\Temp/ipykernel_1140/3822365201.py\u001b[0m in \u001b[0;36m<module>\u001b[1;34m\u001b[0m\n\u001b[0;32m      2\u001b[0m \u001b[0ma\u001b[0m\u001b[1;33m=\u001b[0m\u001b[1;36m12.345\u001b[0m\u001b[1;33m\u001b[0m\u001b[1;33m\u001b[0m\u001b[0m\n\u001b[0;32m      3\u001b[0m \u001b[0mb\u001b[0m\u001b[1;33m=\u001b[0m\u001b[0mDecimal\u001b[0m\u001b[1;33m(\u001b[0m\u001b[1;34m'12'\u001b[0m\u001b[1;33m)\u001b[0m\u001b[1;33m\u001b[0m\u001b[1;33m\u001b[0m\u001b[0m\n\u001b[1;32m----> 4\u001b[1;33m \u001b[0mprint\u001b[0m\u001b[1;33m(\u001b[0m\u001b[0mb\u001b[0m\u001b[1;33m+\u001b[0m\u001b[0ma\u001b[0m\u001b[1;33m)\u001b[0m\u001b[1;33m\u001b[0m\u001b[1;33m\u001b[0m\u001b[0m\n\u001b[0m",
      "\u001b[1;31mTypeError\u001b[0m: unsupported operand type(s) for +: 'decimal.Decimal' and 'float'"
     ]
    }
   ],
   "source": [
    "from decimal import *\n",
    "a=12.345\n",
    "b=Decimal('12')\n",
    "print(b+a)"
   ]
  },
  {
   "cell_type": "markdown",
   "id": "c3533741",
   "metadata": {},
   "source": [
    "Addition ,subtraction ,multiplication ,division like operations cantbe easily done with float on decimal first we have to convert float to decimal and then combine "
   ]
  },
  {
   "cell_type": "code",
   "execution_count": 22,
   "id": "bd7549e2",
   "metadata": {},
   "outputs": [
    {
     "name": "stdout",
     "output_type": "stream",
     "text": [
      "24.34500000000000063948846218\n"
     ]
    }
   ],
   "source": [
    "from decimal import *\n",
    "a=12.345\n",
    "b=Decimal('12')\n",
    "print(Decimal(a)+b)"
   ]
  },
  {
   "cell_type": "markdown",
   "id": "22663c63",
   "metadata": {},
   "source": [
    "# 7. Using the Fraction class but not the Decimal class, give an example of a quantity that can be expressed with absolute precision."
   ]
  },
  {
   "cell_type": "code",
   "execution_count": 26,
   "id": "d6c6fa05",
   "metadata": {},
   "outputs": [
    {
     "name": "stdout",
     "output_type": "stream",
     "text": [
      "1/2\n"
     ]
    }
   ],
   "source": [
    "from fractions import *\n",
    "print(Fraction(0.5))"
   ]
  },
  {
   "cell_type": "markdown",
   "id": "5fd7398d",
   "metadata": {},
   "source": [
    "# 8. Describe a quantity that can be accurately expressed by the Decimal or Fraction classes but not by a floating-point value."
   ]
  },
  {
   "cell_type": "markdown",
   "id": "4c2018c8",
   "metadata": {},
   "source": [
    "Ans:. In summary, exact values like money should use decimal, and approximate values like scientific measurements should use float. \n",
    "For measuring, decimals and fractions are used. Decimal gives a more precise value as compared to fractions as we can even represent the infinite numbers using decimals, which is not possible with fractions."
   ]
  },
  {
   "cell_type": "markdown",
   "id": "15f9c615",
   "metadata": {},
   "source": [
    "# Q9.Consider the following two fraction objects: Fraction(1, 2) and Fraction(1, 2). (5, 10). Is the internal state of these two objects the same? Why do you think that is?"
   ]
  },
  {
   "cell_type": "markdown",
   "id": "9fcaf78d",
   "metadata": {},
   "source": [
    "Ans: Both will have same value 1/2"
   ]
  },
  {
   "cell_type": "markdown",
   "id": "919423f6",
   "metadata": {},
   "source": [
    "# Q10. How do the Fraction class and the integer type (int) relate to each other? Containment or inheritance?"
   ]
  },
  {
   "cell_type": "markdown",
   "id": "5cca90cd",
   "metadata": {},
   "source": [
    "Ans: Int and Fraction class relate to each other with container it has 2 numeric values one for numerator and one for denominator "
   ]
  },
  {
   "cell_type": "code",
   "execution_count": null,
   "id": "34909300",
   "metadata": {},
   "outputs": [],
   "source": []
  }
 ],
 "metadata": {
  "kernelspec": {
   "display_name": "Python 3 (ipykernel)",
   "language": "python",
   "name": "python3"
  },
  "language_info": {
   "codemirror_mode": {
    "name": "ipython",
    "version": 3
   },
   "file_extension": ".py",
   "mimetype": "text/x-python",
   "name": "python",
   "nbconvert_exporter": "python",
   "pygments_lexer": "ipython3",
   "version": "3.9.7"
  }
 },
 "nbformat": 4,
 "nbformat_minor": 5
}
