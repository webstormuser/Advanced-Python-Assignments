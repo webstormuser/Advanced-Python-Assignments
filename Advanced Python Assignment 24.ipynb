{
 "cells": [
  {
   "cell_type": "markdown",
   "id": "ccc8a146",
   "metadata": {},
   "source": [
    "Q1. Is it permissible to use several import statements to import the same module? What would the goal be? Can you think of a situation where it would be beneficial?\n",
    "\n",
    "ANs:yes it is permissible to use several import statements to import same module .But it is advisable when we want to import different functions inside that module we can make use of several import statements "
   ]
  },
  {
   "cell_type": "markdown",
   "id": "e1813151",
   "metadata": {},
   "source": [
    "Q2. What are some of a module's characteristics? (Name at least one.)\n",
    "\n",
    "Ans: __name__ : It returns the name of the module\n",
    "__doc__ : It denotes the documentation string line written in a module code.\n",
    "__file__ : It holds the name and path of the module file from which it is loaded\n",
    "__dict__ : It return a dictionary object of module attributes, functions and other definitions and their respective values"
   ]
  },
  {
   "cell_type": "markdown",
   "id": "9bf29fa8",
   "metadata": {},
   "source": [
    "Q3. Circular importing, such as when two modules import each other, can lead to dependencies and bugs that aren't visible. How can you go about creating a program that avoids mutual importing?\n",
    "\n",
    "Ans: Circular importing means importing the two modules in each other. If suppose we are wokring in MOD1.py file and it is importing some function say F2() from some other module say MOD2.PY file or we can do vice-versa. What will happen is: This will give an import error.\n",
    "\n",
    "This is because when we import F2() function from module MOD2.py, then this will execute MOD2.py file. And in MOD2.py file there is an another statement of importing MOD1.py module.\n",
    "\n",
    "This will result in endless loop. To avoid this error just do one thingWe can use if __name__ == '__main__'\n",
    "In the function, you can't directly refer to the function in the program. The addition of this sentence avoids the endless loop of the program ."
   ]
  },
  {
   "cell_type": "markdown",
   "id": "5e9ae70d",
   "metadata": {},
   "source": [
    "Q4. Why is  _ _all_ _ in Python?\n",
    "\n",
    "Ans: It provides list of all modules present in a library.\n",
    "#Example : import numpy as np\n",
    "   np.__all__"
   ]
  },
  {
   "cell_type": "markdown",
   "id": "b7a7f0e8",
   "metadata": {},
   "source": [
    "Q5. In what situation is it useful to refer to the _ _name_ _ attribute or the string '_ _main_ _'?\n",
    "\n",
    "Ans: During the time of execution of the code if we want to refer the module in which we are working on then we uses name attribute. In that case it will return the module in which we are working on. Suppose if that moudle is being imported from some other module then name will have the name of that moudle from where the current module has been imported. The current module in which we are working is refer to the string __main __.\n",
    "\n",
    "Before executing code, Python interpreter reads source file and define few special variables/global variables. \n",
    "If the python interpreter is running that module (the source file) as the main program, it sets the special __name__ variable to have a value “__main__”. If this file is being imported from another module, __name__ will be set to the module’s name. Module’s name is available as value to __name__ global variable. "
   ]
  },
  {
   "cell_type": "markdown",
   "id": "9178dc1a",
   "metadata": {},
   "source": [
    "Q6. What are some of the benefits of attaching a program counter to the RPN interpreter application, which interprets an RPN script line by line?\n",
    "\n",
    "Ans:RPN(Reverse polish notation)is a method for conveying mathematical expressions without the use of separators such as brackets and parentheses. In this notation, the operators follow their operands, hence removing the need for brackets to define evaluation priority. The operation is read from left to right but execution is done every time an operator is reached, and always using the last two numbers as the operands. This notation is suited for computers and calculators since there are fewer characters to track and fewer operations to execute.\n",
    "\n",
    "Reverse Polish notation is also known as postfix notation.\n",
    "This advantage of reverse Polish notation is that it removes the need for parentheses that are required by infix notation,"
   ]
  },
  {
   "cell_type": "code",
   "execution_count": null,
   "id": "a835d5af",
   "metadata": {},
   "outputs": [],
   "source": []
  }
 ],
 "metadata": {
  "kernelspec": {
   "display_name": "Python 3 (ipykernel)",
   "language": "python",
   "name": "python3"
  },
  "language_info": {
   "codemirror_mode": {
    "name": "ipython",
    "version": 3
   },
   "file_extension": ".py",
   "mimetype": "text/x-python",
   "name": "python",
   "nbconvert_exporter": "python",
   "pygments_lexer": "ipython3",
   "version": "3.9.7"
  }
 },
 "nbformat": 4,
 "nbformat_minor": 5
}
