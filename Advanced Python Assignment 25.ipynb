{
 "cells": [
  {
   "cell_type": "markdown",
   "id": "c4d316dd",
   "metadata": {},
   "source": [
    "# Q1. What is the distinction between a numpy array and a pandas data frame? Is there a way to convert between the two if there is?"
   ]
  },
  {
   "cell_type": "markdown",
   "id": "114c99e8",
   "metadata": {},
   "source": [
    "Numpy arrays can be multi-dimensional whereas DataFrame can only be two-dimensional.\n",
    "\n",
    "Arrays contain similar types of objects or elements whereas DataFrame can have objects or multiple or similar data types.\n",
    "\n",
    "Both array and DataFrames are mutable.\n",
    "\n",
    "Elements in an array can be accessed using only integer positions whereas elements in a DataFrame can be accessed using both integer and index positions.\n",
    "\n",
    "DataFrames are mostly in the form of SQL tables and are associated with tabular data whereas arrays are associated with numerical data and computation.\n",
    "\n",
    "DataFrames can deal with dynamic data and mixed data types whereas arrays do not have the flexibility to handle such data."
   ]
  },
  {
   "cell_type": "markdown",
   "id": "f9e49b70",
   "metadata": {},
   "source": [
    "# Q2. What can go wrong when an user enters in a stock-ticker symbol, and how do you handle it?"
   ]
  },
  {
   "cell_type": "markdown",
   "id": "edf13ca7",
   "metadata": {},
   "source": [
    "Ans: \n",
    "    "
   ]
  },
  {
   "cell_type": "markdown",
   "id": "c697ae94",
   "metadata": {},
   "source": [
    "# Q3. Identify some of the plotting techniques that are used to produce a stock-market chart.\n"
   ]
  },
  {
   "cell_type": "markdown",
   "id": "3068354d",
   "metadata": {},
   "source": [
    " Bar chart, Line Chart are used for plotting."
   ]
  },
  {
   "cell_type": "markdown",
   "id": "ae1c4301",
   "metadata": {},
   "source": [
    "# Q4. Why is it essential to print a legend on a stock market chart?\n"
   ]
  },
  {
   "cell_type": "markdown",
   "id": "a16cf77a",
   "metadata": {},
   "source": [
    " Legend will help comparison between different stocks, so will be essential on a stock market chart"
   ]
  },
  {
   "cell_type": "markdown",
   "id": "f729133a",
   "metadata": {},
   "source": [
    "# Q5. What is the best way to limit the length of a pandas data frame to less than a year?"
   ]
  },
  {
   "cell_type": "markdown",
   "id": "e520a89a",
   "metadata": {},
   "source": [
    ": We can use start and end parameters for that. In start we write the date from where we are starting and at the end we write the end date. SO within this span we can restric the duration.Also we can use the parameters like periods for how much times we need the duration and we can also use the frequency parameter."
   ]
  },
  {
   "cell_type": "markdown",
   "id": "db65f5b7",
   "metadata": {},
   "source": [
    "# Q6. What is the definition of a 180-day moving average?"
   ]
  },
  {
   "cell_type": "markdown",
   "id": "47b9fc10",
   "metadata": {},
   "source": [
    "The 180-day moving average is represented as a line on charts and represents the average price over the past 180 days. The moving average can give traders a sense regarding whether the trend is up or down, while also identifying potential support or resistance areas."
   ]
  },
  {
   "cell_type": "markdown",
   "id": "b0377cf9",
   "metadata": {},
   "source": [
    "# Q7. Did the chapter's final example use \"indirect\" importing? If so, how exactly do you do it?"
   ]
  },
  {
   "cell_type": "markdown",
   "id": "f097392d",
   "metadata": {},
   "source": [
    "Ans: "
   ]
  },
  {
   "cell_type": "code",
   "execution_count": null,
   "id": "f70fcc21",
   "metadata": {},
   "outputs": [],
   "source": []
  }
 ],
 "metadata": {
  "kernelspec": {
   "display_name": "Python 3 (ipykernel)",
   "language": "python",
   "name": "python3"
  },
  "language_info": {
   "codemirror_mode": {
    "name": "ipython",
    "version": 3
   },
   "file_extension": ".py",
   "mimetype": "text/x-python",
   "name": "python",
   "nbconvert_exporter": "python",
   "pygments_lexer": "ipython3",
   "version": "3.9.7"
  }
 },
 "nbformat": 4,
 "nbformat_minor": 5
}
