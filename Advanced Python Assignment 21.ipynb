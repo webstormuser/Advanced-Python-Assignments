{
 "cells": [
  {
   "cell_type": "markdown",
   "id": "6861451e",
   "metadata": {},
   "source": [
    "# Q1. What is a probability distribution, exactly? If the values are meant to be random, how can you predict them at all?"
   ]
  },
  {
   "cell_type": "markdown",
   "id": "2664110f",
   "metadata": {},
   "source": [
    "Ans: In Statistics, the probability distribution gives the possibility of each outcome of a random experiment or event. It provides the probabilities of different possible occurrences.To recall, the probability is a measure of uncertainty of various phenomena. Like, if you throw a dice, the possible outcomes of it, is defined by the probability. This distribution could be defined with any random experiments, whose outcome is not sure or could not be predicted.\n",
    "    Probability distribution yields the possible outcomes for any random event. It is also defined based on the underlying sample space as a set of possible outcomes of any random experiment. These settings could be a set of real numbers or a set of vectors or a set of any entities. It is a part of probability and statistics.\n",
    "    Random experiments are defined as the result of an experiment, whose outcome cannot be predicted. Suppose, if we toss a coin, we cannot predict, what outcome it will appear either it will come as Head or as Tail. The possible result of a random experiment is called an outcome. And the set of outcomes is called a sample point. With the help of these experiments or events, we can always create a probability pattern table in terms of variables and probabilities.\n",
    "    \n",
    "Probability Distribution of Random Variables:\n",
    "    A random variable has a probability distribution, which defines the probability of its unknown values. Random variables can be discrete (not constant) or continuous or both. That means it takes any of a designated finite or countable list of values, provided with a probability mass function feature of the random variable’s probability distribution or can take any numerical value in an interval or set of intervals. Through a probability density function that is representative of the random variable’s probability distribution or it can be a combination of both discrete and continuous.\n",
    "\n",
    "Two random variables with equal probability distribution can yet vary with respect to their relationships with other random variables or whether they are independent of these. The recognition of a random variable, which means, the outcomes of randomly choosing values as per the variable’s probability distribution function, are called random variates.\n",
    "Normal or Cumulative Probability Distribution\n",
    "Binomial or Discrete Probability Distribution"
   ]
  },
  {
   "cell_type": "markdown",
   "id": "b4eae12f",
   "metadata": {},
   "source": [
    "# Q2. Is there a distinction between true random numbers and pseudo-random numbers, if there is one? Why are the latter considered “good enough”?"
   ]
  },
  {
   "cell_type": "markdown",
   "id": "6e4a9298",
   "metadata": {},
   "source": [
    "Ans:True Random Numbers are true physical values while pseudo-random numbers are generated internally by a program . Latter is considered good enough as they have sort of uniform distribution."
   ]
  },
  {
   "cell_type": "markdown",
   "id": "91f2b68b",
   "metadata": {},
   "source": [
    "# Q3. What are the two main factors that influence the behaviour of a &quot;normal&quot; probability distribution?"
   ]
  },
  {
   "cell_type": "markdown",
   "id": "8023ca11",
   "metadata": {},
   "source": [
    "Ans :Parameters of Normal Distribution\n",
    "    The two main parameters of a (normal) distribution are the mean and standard deviation. The parameters determine the shape and probabilities of the distribution. The shape of the distribution changes as the parameter values change.\n",
    "    \n",
    "    1. Mean\n",
    "The mean is used by researchers as a measure of central tendency. It can be used to describe the distribution of variables measured as ratios or intervals. In a normal distribution graph, the mean defines the location of the peak, and most of the data points are clustered around the mean. Any changes made to the value of the mean move the curve either to the left or right along the X-axis.\n",
    "\n",
    "2. Standard Deviation\n",
    "The standard deviation measures the dispersion of the data points relative to the mean. It determines how far away from the mean the data points are positioned and represents the distance between the mean and the observations."
   ]
  },
  {
   "cell_type": "markdown",
   "id": "fe185f66",
   "metadata": {},
   "source": [
    "# Q4. Provide a real-life example of a normal distribution."
   ]
  },
  {
   "cell_type": "markdown",
   "id": "7d470664",
   "metadata": {},
   "source": [
    "Ans: \n",
    "    1 Height :\n",
    "    Height of the population is the example of normal distribution. Most of the people in a specific population are of average height. The number of people taller and shorter than the average height people is almost equal, and a very small number of people are either extremely tall or extremely short. \n",
    "     2: Rolling a Dice \n",
    "     3: IQ \n",
    "     4:Tossing  a coin\n",
    "     5:Share market \n",
    "     6:Income distribution in economy"
   ]
  },
  {
   "cell_type": "markdown",
   "id": "64a29e58",
   "metadata": {},
   "source": [
    "# Q5. In the short term, how can you expect a probability distribution to behave? What do you think will happen as the number of trials grows?"
   ]
  },
  {
   "cell_type": "markdown",
   "id": "35960a46",
   "metadata": {},
   "source": [
    "Ans : As we increase the number of trials the variance will decrease and it tends to make normal distribution"
   ]
  },
  {
   "cell_type": "markdown",
   "id": "200d8450",
   "metadata": {},
   "source": [
    "# Q6. What kind of object can be shuffled by using random.shuffle?"
   ]
  },
  {
   "cell_type": "markdown",
   "id": "efa819b8",
   "metadata": {},
   "source": [
    "Ans: it shuflles list"
   ]
  },
  {
   "cell_type": "code",
   "execution_count": 3,
   "id": "95b0f445",
   "metadata": {},
   "outputs": [],
   "source": [
    "import numpy as np\n",
    "import random"
   ]
  },
  {
   "cell_type": "code",
   "execution_count": 11,
   "id": "2fd63ebf",
   "metadata": {},
   "outputs": [
    {
     "name": "stdout",
     "output_type": "stream",
     "text": [
      "original list is ['A', 'B', 'C', 'D', 'E', 'F']\n",
      "after first shulfe\n",
      "['A', 'C', 'B', 'D', 'E', 'F']\n"
     ]
    }
   ],
   "source": [
    "list1=['A','B','C','D','E','F']\n",
    "print(\"original list is\",list1)\n",
    "print(\"after first shulfe\")\n",
    "random.shuffle(list1)\n",
    "print(list1)"
   ]
  },
  {
   "cell_type": "markdown",
   "id": "65f19873",
   "metadata": {},
   "source": [
    "# Q7. Describe the math package&#39;s general categories of functions."
   ]
  },
  {
   "cell_type": "markdown",
   "id": "3bd85272",
   "metadata": {},
   "source": [
    "Ans :\n",
    "\n",
    "Trigonometric functions\n",
    "\n",
    "Quadratic functions\n",
    "\n",
    "Exponential functions\n",
    "\n",
    "Hyperbolic functions\n",
    "\n",
    "Periodic functions\n",
    "\n",
    "Arithmetic functions\n",
    "\n",
    "Logarithimic functions\n",
    "\n",
    "Conversions to Integer"
   ]
  },
  {
   "cell_type": "markdown",
   "id": "664fc333",
   "metadata": {},
   "source": [
    "1:Trigonometric functions:\n",
    "        \n",
    "        math.acos(x)\n",
    "Return the arc cosine of x, in radians. The result is between 0 and pi.\n",
    "\n",
    "math.asin(x)\n",
    "Return the arc sine of x, in radians. The result is between -pi/2 and pi/2.\n",
    "\n",
    "math.atan(x)\n",
    "Return the arc tangent of x, in radians. The result is between -pi/2 and pi/2.\n",
    "\n",
    "math.atan2(y, x)\n",
    "Return atan(y / x), in radians. The result is between -pi and pi. The vector in the plane from the origin to point (x, y) makes this angle with the positive X axis. The point of atan2() is that the signs of both inputs are known to it, so it can compute the correct quadrant for the angle. For example, atan(1) and atan2(1, 1) are both pi/4, but atan2(-1, -1) is -3*pi/4.\n",
    "\n",
    "math.cos(x)\n",
    "Return the cosine of x radians.\n",
    "\n",
    "math.dist(p, q)\n",
    "Return the Euclidean distance between two points p and q, each given as a sequence (or iterable) of coordinates. The two points must have the same dimension\n",
    "\n",
    "---------------------------------------------------------------------------------------------\n",
    "Power and logarithmic functions\n",
    "math.cbrt(x)\n",
    "Return the cube root of x.\n",
    "\n",
    "New in version 3.11.\n",
    "\n",
    "math.exp(x)\n",
    "Return e raised to the power x, where e = 2.718281… is the base of natural logarithms. This is usually more accurate than math.e ** x or pow(math.e, x).\n",
    "\n",
    "math.exp2(x)\n",
    "Return 2 raised to the power x.\n",
    "\n",
    "New in version 3.11.\n",
    "\n",
    "math.expm1(x)\n",
    "Return e raised to the power x, minus 1. Here e is the base of natural logarithms. For small floats x, the subtraction in exp(x) - 1 can result in a significant loss of precision; the expm1() function provides a way to compute this quantity to full precision:"
   ]
  },
  {
   "cell_type": "markdown",
   "id": "9263d2b9",
   "metadata": {},
   "source": [
    "# Q8. What is the relationship between exponentiation and logarithms?"
   ]
  },
  {
   "cell_type": "markdown",
   "id": "53baa132",
   "metadata": {},
   "source": [
    "Ans: Logarithmic functions are the inverses of exponential functions. The inverse of the exponential function y = ax is x = ay. The logarithmic function y = logax is defined to be equivalent to the exponential equation x = ay. y = logax only under the following conditions: x = ay, a > 0, and a≠1. It is called the logarithmic function with base a."
   ]
  },
  {
   "cell_type": "markdown",
   "id": "334f587b",
   "metadata": {},
   "source": [
    "# Q9. What are the three logarithmic functions that Python supports?"
   ]
  },
  {
   "cell_type": "markdown",
   "id": "96d0e2c2",
   "metadata": {},
   "source": [
    "Ans:The Three Logarithmic Functions that Python supports are:\n",
    "\n",
    "log2(x) - logarithmic value of x to base 2\n",
    "log10(x) - logarithmic value of x to base 10\n",
    "log1p(a) - This function is used to compute logarithm(1+a) ."
   ]
  },
  {
   "cell_type": "code",
   "execution_count": null,
   "id": "c91bff4c",
   "metadata": {},
   "outputs": [],
   "source": []
  }
 ],
 "metadata": {
  "kernelspec": {
   "display_name": "Python 3 (ipykernel)",
   "language": "python",
   "name": "python3"
  },
  "language_info": {
   "codemirror_mode": {
    "name": "ipython",
    "version": 3
   },
   "file_extension": ".py",
   "mimetype": "text/x-python",
   "name": "python",
   "nbconvert_exporter": "python",
   "pygments_lexer": "ipython3",
   "version": "3.9.7"
  }
 },
 "nbformat": 4,
 "nbformat_minor": 5
}
