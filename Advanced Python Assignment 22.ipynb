{
 "cells": [
  {
   "cell_type": "markdown",
   "id": "9d9a1116",
   "metadata": {},
   "source": [
    "# Q1. What are the benefits of the built-in array package, if any?"
   ]
  },
  {
   "cell_type": "markdown",
   "id": "c205da5a",
   "metadata": {},
   "source": [
    "Ans :\n",
    "    The following are some advantages of arrays:\n",
    "\n",
    "Arrays are similar to lists. The main difference is that arrays can store only one type of elements; whereas, lists can store different types of elements. \n",
    "\n",
    "When dealing with a huge number of elements, arrays use less memory than lists and they offer faster execution than lists.\n",
    "\n",
    "The size of the array is not fixed in Python. Hence, we need not specify how many elements we are going to store into an array in the beginning.\n",
    "\n",
    "Arrays can grow or shrink in memory dynamically (during runtime).\n",
    "\n",
    "Arrays are useful to handle a collection of elements like a group of numbers or characters.\n",
    "\n",
    "Methods that are useful to process the elements of any array are available in 'array' module."
   ]
  },
  {
   "cell_type": "markdown",
   "id": "c5097351",
   "metadata": {},
   "source": [
    "# Q2. What are some of the array package&#39;s limitations?"
   ]
  },
  {
   "cell_type": "markdown",
   "id": "b02634db",
   "metadata": {},
   "source": [
    "The number of elements to be stored in an array should be known in advance. An array is a static structure (which means the array is of fixed size). Once declared the size of the array cannot be modified. The memory which is allocated to it cannot be increased or decreased.\n",
    "\n",
    "Insertion and deletion are quite difficult in an array as the elements are stored in consecutive memory locations and the shifting operation is costly.\n",
    "\n",
    "Allocating more memory than the requirement leads to wastage of memory space and less allocation of memory also leads to a problem"
   ]
  },
  {
   "cell_type": "markdown",
   "id": "189adc2a",
   "metadata": {},
   "source": [
    "# Q3. Describe the main differences between the array and numpy packages."
   ]
  },
  {
   "cell_type": "markdown",
   "id": "e3fee744",
   "metadata": {},
   "source": [
    "he array package doesn't provide any help with numerical calculation with the items insdie it in number form while NumPy give you a wide variety of numerical operations.\n",
    "\n",
    "An array is a single dimensional entity which hold the numerical data, while numpy can have more than 1 dimension.\n",
    "\n",
    "In case of array, item can be accessed by its index position and it is easy task while in numpy item is accessed by its column and row index, which makes it slightly time taking. Same goes with appending operation.\n",
    "\n",
    "In case of array we do not form a tabular structure, while in numpy it forms a tabular structure"
   ]
  },
  {
   "cell_type": "markdown",
   "id": "a4e7f8b6",
   "metadata": {},
   "source": [
    "# Q4. Explain the distinctions between the empty, ones, and zeros functions."
   ]
  },
  {
   "cell_type": "markdown",
   "id": "d5c58045",
   "metadata": {},
   "source": [
    "Ans: numpy.empty(shape, dtype = float, order = ‘C’) : Return a new array of given shape and type, with random values."
   ]
  },
  {
   "cell_type": "code",
   "execution_count": 6,
   "id": "cea55f68",
   "metadata": {},
   "outputs": [
    {
     "name": "stdout",
     "output_type": "stream",
     "text": [
      "[-1370313136         667]\n",
      "************************************\n",
      "[[1.41682146e-311 1.41681616e-311]\n",
      " [1.41681616e-311 1.41681616e-311]]\n",
      "**************************************\n",
      "[[          0           0  1440309328]\n",
      " [      32764           1           0]\n",
      " [         -1          -1 -1919942656]]\n"
     ]
    }
   ],
   "source": [
    "#Example \n",
    "import numpy as np\n",
    "a=np.empty(2,dtype=int)\n",
    "print(a)\n",
    "print(\"************************************\")\n",
    "b=np.empty([2,2],dtype=float)\n",
    "print(b)\n",
    "print(\"**************************************\")\n",
    "c=np.empty([3,3],dtype=int)\n",
    "print(c)"
   ]
  },
  {
   "cell_type": "code",
   "execution_count": 8,
   "id": "bc442426",
   "metadata": {},
   "outputs": [
    {
     "name": "stdout",
     "output_type": "stream",
     "text": [
      "[[1. 1.]\n",
      " [1. 1.]]\n"
     ]
    }
   ],
   "source": [
    "a=np.ones([2,2])\n",
    "print(a)"
   ]
  },
  {
   "cell_type": "code",
   "execution_count": 10,
   "id": "16806fd5",
   "metadata": {},
   "outputs": [
    {
     "name": "stdout",
     "output_type": "stream",
     "text": [
      "[[0. 0.]]\n"
     ]
    }
   ],
   "source": [
    "b=np.zeros([1,2])\n",
    "print(b)"
   ]
  },
  {
   "cell_type": "markdown",
   "id": "9bae7ee1",
   "metadata": {},
   "source": [
    "# Q5. In the fromfunction function, which is used to construct new arrays, what is the role of the callable argument?"
   ]
  },
  {
   "cell_type": "markdown",
   "id": "9d9271c1",
   "metadata": {},
   "source": [
    "Ans:numpy.fromfunction(function, shape, *, dtype=<class 'float'>, like=None, **kwargs)[source]\n",
    "Construct an array by executing a function over each coordinate.\n",
    "\n",
    "The resulting array therefore has a value fn(x, y, z) at coordinate (x, y, z).\n",
    "\n",
    "Parameters:\n",
    "functioncallable\n",
    "The function is called with N parameters, where N is the rank of shape. Each parameter represents the coordinates of the array varying along a specific axis. For example, if shape were (2, 2), then the parameters would be array([[0, 0], [1, 1]]) and array([[0, 1], [0, 1]])\n",
    "\n",
    "shape(N,) tuple of ints\n",
    "Shape of the output array, which also determines the shape of the coordinate arrays passed to function.\n",
    "\n",
    "dtypedata-type, optional\n",
    "Data-type of the coordinate arrays passed to function. By default, dtype is float.\n",
    "\n",
    "likearray_like, optional\n",
    "Reference object to allow the creation of arrays which are not NumPy arrays. If an array-like passed in as like supports the __array_function__ protocol, the result will be defined by it. In this case, it ensures the creation of an array object compatible with that passed in via this argument.\n",
    "Returns:\n",
    "fromfunctionany\n",
    "The result of the call to function is passed back directly. Therefore the shape of fromfunction is completely determined by function. If function returns a scalar value, the shape of fromfunction would not match the shape parameter.\n",
    "\n",
    "Its function is to execute the function over each coordinate and the resulting array. The function is called with N parameters, where N is the rank of shape. Each parameter represents the coordinates of the array varying along a specific axis."
   ]
  },
  {
   "cell_type": "code",
   "execution_count": 15,
   "id": "aab3ce0f",
   "metadata": {},
   "outputs": [
    {
     "name": "stdout",
     "output_type": "stream",
     "text": [
      "[[0. 1.]\n",
      " [0. 1.]]\n",
      "[[ True False False]\n",
      " [False  True False]\n",
      " [False False  True]]\n"
     ]
    }
   ],
   "source": [
    "#Example :\n",
    "a=np.fromfunction(lambda i,j:j,[2,2],dtype=float)\n",
    "print(a)\n",
    "\n",
    "b=np.fromfunction(lambda i,j:i==j,[3,3],dtype=int)\n",
    "print(b)"
   ]
  },
  {
   "cell_type": "markdown",
   "id": "97251adf",
   "metadata": {},
   "source": [
    "# Q6. What happens when a numpy array is combined with a single-value operand (a scalar, such as an int or a floating-point value) through addition, as in the expression A + n?"
   ]
  },
  {
   "cell_type": "markdown",
   "id": "fe98389e",
   "metadata": {},
   "source": [
    "when a numpy array is combined with a single-value operand (a scalar, such as an int or a floating-point value) through addition,that number is added element wise to each element in array"
   ]
  },
  {
   "cell_type": "code",
   "execution_count": 25,
   "id": "c9f632e2",
   "metadata": {},
   "outputs": [
    {
     "name": "stdout",
     "output_type": "stream",
     "text": [
      "[[1 2]\n",
      " [3 4]\n",
      " [5 6]\n",
      " [7 8]]\n",
      "12.0\n",
      "[[13. 14.]\n",
      " [15. 16.]\n",
      " [17. 18.]\n",
      " [19. 20.]]\n"
     ]
    }
   ],
   "source": [
    "import numpy as np\n",
    "A=np.array([1,2,3,4,5,6,7,8]).reshape(4,2)\n",
    "print(A)\n",
    "n=12\n",
    "print(n)\n",
    "print(A+n)"
   ]
  },
  {
   "cell_type": "markdown",
   "id": "12d3f2a3",
   "metadata": {},
   "source": [
    "# Q7. Can array-to-scalar operations use combined operation-assign operators (such as += or *=)? What is the outcome?"
   ]
  },
  {
   "cell_type": "markdown",
   "id": "064ffd01",
   "metadata": {},
   "source": [
    "Ans:It will carry out provided operation on all elements of array."
   ]
  },
  {
   "cell_type": "markdown",
   "id": "408af432",
   "metadata": {},
   "source": [
    "# Q8. Does a numpy array contain fixed-length strings? What happens if you allocate a longer string to one of these arrays?"
   ]
  },
  {
   "cell_type": "markdown",
   "id": "92017a2d",
   "metadata": {},
   "source": [
    " Yes, it is possible that we can include a string of fixed length in numpy array. The dtype of any numpy array containing string values is the maximum length of any string present in the array.Once set, it will only be able to store new string having length not more than the maximum length at the time of the creation. If we try to reassign some another string value having length greater than the maximum length of the existing elements, it simply discards all the values beyond the maximum length accept upto those values which are under the limit."
   ]
  },
  {
   "cell_type": "code",
   "execution_count": 30,
   "id": "1a48f511",
   "metadata": {},
   "outputs": [
    {
     "name": "stdout",
     "output_type": "stream",
     "text": [
      "['India' 'US' 'UK' ' ' 'China']\n",
      "['India' 'US' 'UK' 'NewZe' 'China']\n"
     ]
    }
   ],
   "source": [
    "import numpy as np\n",
    "country=np.array(['India','US','UK',' ','China'])\n",
    "print(country)\n",
    "#Try to reassign value NewZealand to ' '\n",
    "country[country==' ']='NewZealand'\n",
    "print(country)"
   ]
  },
  {
   "cell_type": "markdown",
   "id": "55b698bb",
   "metadata": {},
   "source": [
    "# Q9. What happens when you combine two numpy arrays using an operation like addition (+) or multiplication (*)? What are the conditions for combining two numpy arrays?"
   ]
  },
  {
   "cell_type": "markdown",
   "id": "90be912a",
   "metadata": {},
   "source": [
    "Ans: It will simply add or multiply element to element at same position."
   ]
  },
  {
   "cell_type": "code",
   "execution_count": 34,
   "id": "2e49d0c9",
   "metadata": {},
   "outputs": [
    {
     "name": "stdout",
     "output_type": "stream",
     "text": [
      "[[10 10 10]\n",
      " [10 10 10]\n",
      " [10 10 10]]\n",
      "*******************************\n",
      "[[ 9 16 21]\n",
      " [24 25 24]\n",
      " [21 16  9]]\n"
     ]
    }
   ],
   "source": [
    "#Example \n",
    "import numpy as np\n",
    "A=np.array([[1,2,3],[4,5,6],[7,8,9]])\n",
    "B=np.array([[9,8,7],[6,5,4],[3,2,1]])\n",
    "print(A+B)\n",
    "print(\"*******************************\")\n",
    "print(A*B)"
   ]
  },
  {
   "cell_type": "markdown",
   "id": "327ab08d",
   "metadata": {},
   "source": [
    "# Q10. What is the best way to use a Boolean array to mask another array?"
   ]
  },
  {
   "cell_type": "markdown",
   "id": "2f4f07e1",
   "metadata": {},
   "source": [
    "Ans:Using Masking of arrays we can easily handle the missing, invalid, or unwanted entries in our array or dataset/dataframe. Masking is essential works with the list of Boolean values i.e, True or False which when applied to an original array to return the element of interest, here True refers to the value that satisfies the given condition whereas False refers to values that fail to satisfy the condition.\n",
    "\n",
    "We can mask the array using another by using the following functions:-\n",
    "\n",
    "numpy.ma.masked_where(condition, arr)"
   ]
  },
  {
   "cell_type": "code",
   "execution_count": 47,
   "id": "7ac9009f",
   "metadata": {},
   "outputs": [
    {
     "name": "stdout",
     "output_type": "stream",
     "text": [
      "Masked array is  [ 7 14 21]\n"
     ]
    }
   ],
   "source": [
    "#Example :\n",
    "import numpy as np \n",
    "def masked(arr1,arr2):\n",
    "    masked_arr=np.ma.masked_where(arr2%7,arr1)\n",
    "    return masked_arr\n",
    "A=np.array([1,2,3,4,5,6,7,8,9,10,11,12,13,14,15,16,17,18,19,20,21])\n",
    "B=np.array([1,2,3,4,5,6,7,8,9,10,11,12,13,14,15,16,17,18,19,20,21])\n",
    "mask=masked(B,A)\n",
    "print(\"Masked array is \",np.ma.compressed(mask))"
   ]
  },
  {
   "cell_type": "markdown",
   "id": "8ff3fa8b",
   "metadata": {},
   "source": [
    "# Q11. What are three different ways to get the standard deviation of a wide collection of data using both standard Python and its packages? Sort the three of them by how quickly they execute."
   ]
  },
  {
   "cell_type": "code",
   "execution_count": 50,
   "id": "4abdd660",
   "metadata": {},
   "outputs": [],
   "source": [
    "A=np.array([1,2,34,677,90,78,76,45,23,11,10])"
   ]
  },
  {
   "cell_type": "code",
   "execution_count": 51,
   "id": "ba3494c2",
   "metadata": {},
   "outputs": [
    {
     "name": "stdout",
     "output_type": "stream",
     "text": [
      "Using numpy package 186.49144176406506\n"
     ]
    }
   ],
   "source": [
    "#one way using numpy \n",
    "import numpy as np\n",
    "print(\"Using numpy package\",np.std(A))"
   ]
  },
  {
   "cell_type": "code",
   "execution_count": 53,
   "id": "eb8f93c2",
   "metadata": {},
   "outputs": [
    {
     "name": "stdout",
     "output_type": "stream",
     "text": [
      "Using statistics module 195.5914108543624\n"
     ]
    }
   ],
   "source": [
    "#Second way using statistics module \n",
    "import statistics\n",
    "print(\"Using statistics module\",statistics.stdev(A))"
   ]
  },
  {
   "cell_type": "code",
   "execution_count": 57,
   "id": "e5f1bc0d",
   "metadata": {},
   "outputs": [
    {
     "name": "stdout",
     "output_type": "stream",
     "text": [
      "Sample Data:  [  1   2  34 677  90  78  76  45  23  11  10]\n",
      "Standard Deviation :  195.59387423015997\n"
     ]
    }
   ],
   "source": [
    "#Using math \n",
    "import math\n",
    "import sys\n",
    "def sd_calc(data):\n",
    "    n = len(data)\n",
    "    if n <= 1:\n",
    "        return 0.0\n",
    "    mean, sd = avg_calc(data), 0.0\n",
    "    # calculate stan. dev.\n",
    "    for el in data:\n",
    "        sd += (float(el) - mean)**2\n",
    "    sd = math.sqrt(sd / float(n-1))\n",
    "    return sd\n",
    "\n",
    "def avg_calc(ls):\n",
    "    n, mean = len(ls), 0.0\n",
    "    if n <= 1:\n",
    "        return ls[0]\n",
    "    # calculate average\n",
    "    for el in ls:\n",
    "        mean = mean + float(el)\n",
    "    mean = mean / float(n)\n",
    "    return mean\n",
    "data=np.array([1,2,34,677,90,78,76,45,23,11,10])\n",
    "print(\"Sample Data: \",data)\n",
    "print(\"Standard Deviation : \",sd_calc(data))"
   ]
  },
  {
   "cell_type": "markdown",
   "id": "8e7695cf",
   "metadata": {},
   "source": [
    "# 12. What is the dimensionality of a Boolean mask-generated array?"
   ]
  },
  {
   "cell_type": "markdown",
   "id": "3fef0a9e",
   "metadata": {},
   "source": [
    " It will have same dimensionality as input array."
   ]
  },
  {
   "cell_type": "code",
   "execution_count": null,
   "id": "8b5060e8",
   "metadata": {},
   "outputs": [],
   "source": []
  }
 ],
 "metadata": {
  "kernelspec": {
   "display_name": "Python 3 (ipykernel)",
   "language": "python",
   "name": "python3"
  },
  "language_info": {
   "codemirror_mode": {
    "name": "ipython",
    "version": 3
   },
   "file_extension": ".py",
   "mimetype": "text/x-python",
   "name": "python",
   "nbconvert_exporter": "python",
   "pygments_lexer": "ipython3",
   "version": "3.9.7"
  }
 },
 "nbformat": 4,
 "nbformat_minor": 5
}
