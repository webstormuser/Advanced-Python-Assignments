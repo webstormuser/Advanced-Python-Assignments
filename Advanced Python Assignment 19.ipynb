{
 "cells": [
  {
   "cell_type": "raw",
   "id": "8738ff2f",
   "metadata": {},
   "source": [
    "\n",
    "\n",
    "\n",
    "\n",
    "\n",
    "\n",
    "\n",
    "\n",
    "\n",
    "\n",
    "\n",
    "\n",
    "\n",
    "\n",
    "\n",
    "\n",
    "\n",
    "\n",
    "\n",
    "\n"
   ]
  },
  {
   "cell_type": "markdown",
   "id": "3f6269da",
   "metadata": {},
   "source": [
    "Q1. Define the relationship between a class and its instances. Is it a one-to-one or a one-to-many\n",
    "partnership, for example?"
   ]
  },
  {
   "cell_type": "markdown",
   "id": "09adcda8",
   "metadata": {},
   "source": [
    "ANS :The relationship between class and its instances is one to many "
   ]
  },
  {
   "cell_type": "markdown",
   "id": "59976ba3",
   "metadata": {},
   "source": [
    "Q2. What kind of data is held only in an instance?\n",
    "Ans: Instance objects contains the Instance variables which are specific to that specific Instance object."
   ]
  },
  {
   "cell_type": "markdown",
   "id": "ce24ca90",
   "metadata": {},
   "source": [
    "Q3. What kind of knowledge is stored in a class?\n",
    "ANS :Class is user defined data structure which contains its data members and member functions which can be accessed by creating the instance of that class .The Instance is nothing but an object and class is a blue print of object "
   ]
  },
  {
   "cell_type": "markdown",
   "id": "72c813b7",
   "metadata": {},
   "source": [
    "Q4. What exactly is a method, and how is it different from a regular function?\n",
    "ANS: The differenct between method and regular function is that method is inside the class and we have to use object of class to call the class methods but function can defined irespective of the class and can be called without object "
   ]
  },
  {
   "cell_type": "code",
   "execution_count": 51,
   "id": "bbf4557a",
   "metadata": {},
   "outputs": [
    {
     "name": "stdout",
     "output_type": "stream",
     "text": [
      "sqaure --> 4\n"
     ]
    }
   ],
   "source": [
    "#EXample:\n",
    "#function to create sqaure of a number \n",
    "def sqaure(num):\n",
    "    return num**2\n",
    "print(\"sqaure -->\",sqaure(2))"
   ]
  },
  {
   "cell_type": "code",
   "execution_count": 52,
   "id": "14385b6a",
   "metadata": {},
   "outputs": [
    {
     "name": "stdout",
     "output_type": "stream",
     "text": [
      "sqaure is  4\n"
     ]
    }
   ],
   "source": [
    "#Method inside class to create sqaure of number \n",
    "class Sqaure:\n",
    "    def __init__(self,num):\n",
    "        self.num=num\n",
    "    def square(self):\n",
    "        print(\"sqaure is \", self.num**2)\n",
    "S=Sqaure(2)\n",
    "S.square()"
   ]
  },
  {
   "cell_type": "markdown",
   "id": "5bbe6abf",
   "metadata": {},
   "source": [
    "Q5. Is inheritance supported in Python, and if so, what is the syntax?\n",
    "ANS : Yes,Python supports inheritance. The Types of Inheritence Supported by Python are:\n",
    "\n",
    "Simple Inheritence\n",
    "Multiple Inheritence\n",
    "Multilevel lInheritence\n",
    "Hybrid Inheritence\n",
    "Hierracial Inheritence"
   ]
  },
  {
   "cell_type": "code",
   "execution_count": null,
   "id": "b3a37d94",
   "metadata": {},
   "outputs": [],
   "source": [
    "class Person:\n",
    "    def __init__(self, fname, lname):\n",
    "        self.first_name = fname\n",
    "        self.last_name = lname\n",
    "class Student(Person):\n",
    "    pass"
   ]
  },
  {
   "cell_type": "markdown",
   "id": "06206f28",
   "metadata": {},
   "source": [
    "Q6. How much encapsulation (making instance or class variables private) does Python support?\n",
    "\n",
    "Ans: Encapsulation describes the idea of wrapping data and the methods that work on data within one unit. This puts restrictions on accessing variables and methods directly and can prevent the accidental modification of data. To prevent accidental change, an objects variable can only be changed by an objects method."
   ]
  },
  {
   "cell_type": "markdown",
   "id": "1167f6f5",
   "metadata": {},
   "source": [
    "Q7. How do you distinguish between a class variable and an instance variable?\n",
    "Ans: The Class Attribute is available to all the instance objects of that class. whereas Instance Attributes are accessible only to the object or Instance of that class.\n",
    "\n",
    "A single copy of Class attributes is maintained by pvm at the class level. Whereas difference copies of instance attributes are maintained by pvm at objects/instance level."
   ]
  },
  {
   "cell_type": "markdown",
   "id": "d4200414",
   "metadata": {},
   "source": [
    "Q8. When, if ever, can self be included in a class&#39;s method definitions?\n",
    "\n",
    "Ans:Yes, self can included in class method definations to access the instance variables inside class methods."
   ]
  },
  {
   "cell_type": "markdown",
   "id": "4e2ca972",
   "metadata": {},
   "source": [
    "Q9. What is the difference between the _ _add_ _ and the _ _radd_ _ methods?\n",
    "\n",
    "Ans:Entering __radd__ Python will first try __add__(), and if that returns Not Implemented Python will check if the right-hand operand implements __radd__, and if it does, it will call __radd__() rather than raising a TypeError"
   ]
  },
  {
   "cell_type": "markdown",
   "id": "5afbcb2c",
   "metadata": {},
   "source": [
    "Q10. When is it necessary to use a reflection method? When do you not need it, even though you\n",
    "support the operation in question?\n",
    "\n",
    "Ans:Reflection method we often encounter the requirement that a method in the executing object, or a variable in the calling object, or a field of the object should be assigned, while the method name or field name can not be determined when encoding the code, and need to be input in the form of passing strings through parameters."
   ]
  },
  {
   "cell_type": "markdown",
   "id": "872f5717",
   "metadata": {},
   "source": [
    "Q11. What is the _ _iadd_ _ method called?\n",
    "\n",
    "Ans:__iadd__ method is called when we use implementation like a+=b which is a.__iadd__(b)"
   ]
  },
  {
   "cell_type": "markdown",
   "id": "897e78e3",
   "metadata": {},
   "source": [
    "Q12. Is the _ _init_ _ method inherited by subclasses? What do you do if you need to customize its\n",
    "behavior within a subclass?\n",
    "\n",
    "Ans:Yes, __init__ method will be inherited by subclasses. if we want to customize its behaviour within a subclass we can use super() method."
   ]
  },
  {
   "cell_type": "code",
   "execution_count": null,
   "id": "543658b4",
   "metadata": {},
   "outputs": [],
   "source": []
  }
 ],
 "metadata": {
  "kernelspec": {
   "display_name": "Python 3 (ipykernel)",
   "language": "python",
   "name": "python3"
  },
  "language_info": {
   "codemirror_mode": {
    "name": "ipython",
    "version": 3
   },
   "file_extension": ".py",
   "mimetype": "text/x-python",
   "name": "python",
   "nbconvert_exporter": "python",
   "pygments_lexer": "ipython3",
   "version": "3.9.7"
  }
 },
 "nbformat": 4,
 "nbformat_minor": 5
}
